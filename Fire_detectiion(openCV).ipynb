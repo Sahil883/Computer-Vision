{
  "nbformat": 4,
  "nbformat_minor": 0,
  "metadata": {
    "accelerator": "GPU",
    "colab": {
      "name": "Fire detectiion.ipynb",
      "provenance": []
    },
    "kernelspec": {
      "display_name": "Python 3",
      "name": "python3"
    },
    "language_info": {
      "name": "python"
    }
  },
  "cells": [
    {
      "cell_type": "code",
      "metadata": {
        "colab": {
          "base_uri": "https://localhost:8080/",
          "height": 414
        },
        "id": "jwJGyFNhiqdq",
        "outputId": "c9aa9b1e-0a14-4cdc-fe8c-52f76e374d1b"
      },
      "source": [
        "import numpy as np\n",
        "import cv2\n",
        "# import serial\n",
        "import time\n",
        "from google.colab.patches import cv2_imshow\n",
        "\n",
        "\n",
        "fire_cascade = cv2.CascadeClassifier('/content/drive/MyDrive/parojos.xml')\n",
        "#fire_detection.xml file & this code should be in the same folder while running the code\n",
        "\n",
        "# ser1 = serial.Serial('COM14',9600)#change COM port number on which your arduino is connected\n",
        "\n",
        "cap = cv2.VideoCapture(\"0\")\n",
        "while 1:\n",
        "    #ser1.write('0')\n",
        "    ret, img = cap.read()\n",
        "    #cv2.imshow('imgorignal',img)\n",
        "    gray = cv2.cvtColor(img,cv2.COLOR_BGR2GRAY)\n",
        "    fire = fire_cascade.detectMultiScale(img, 1.2, 5)\n",
        "    for (x,y,w,h) in fire:\n",
        "        cv2.rectangle(img,(x,y),(x+w,y+h),(0,0,255),2)\n",
        "        roi_gray = gray[y:y+h, x:x+w]\n",
        "        roi_color = img[y:y+h, x:x+w]\n",
        "        print ('Fire is detected..!')\n",
        "        # ser1.write('p')\n",
        "        time.sleep(0.2)\n",
        "        \n",
        "    cv2_imshow(img)\n",
        "    \n",
        "    \n",
        "    k = cv2.waitKey(30) & 0xff\n",
        "    if k == 27:\n",
        "        break\n",
        "\n",
        "cap.release()\n",
        "cv2.destroyAllWindows()"
      ],
      "execution_count": null,
      "outputs": [
        {
          "output_type": "error",
          "ename": "SystemError",
          "evalue": "ignored",
          "traceback": [
            "\u001b[0;31m---------------------------------------------------------------------------\u001b[0m",
            "\u001b[0;31merror\u001b[0m                                     Traceback (most recent call last)",
            "\u001b[0;31merror\u001b[0m: OpenCV(4.1.2) /io/opencv/modules/objdetect/src/cascadedetect.cpp:569: error: (-2:Unspecified error) in function 'bool cv::HaarEvaluator::Feature::read(const cv::FileNode&, const Size&)'\n> Invalid HAAR feature (expected: 'rw.r.x + rw.r.width <= W'), where\n>     'rw.r.x + rw.r.width' is 18\n> must be less than or equal to\n>     'W' is 5\n",
            "\nThe above exception was the direct cause of the following exception:\n",
            "\u001b[0;31mSystemError\u001b[0m                               Traceback (most recent call last)",
            "\u001b[0;32m<ipython-input-4-3c98a3e8788b>\u001b[0m in \u001b[0;36m<module>\u001b[0;34m()\u001b[0m\n\u001b[1;32m      6\u001b[0m \u001b[0;34m\u001b[0m\u001b[0m\n\u001b[1;32m      7\u001b[0m \u001b[0;34m\u001b[0m\u001b[0m\n\u001b[0;32m----> 8\u001b[0;31m \u001b[0mfire_cascade\u001b[0m \u001b[0;34m=\u001b[0m \u001b[0mcv2\u001b[0m\u001b[0;34m.\u001b[0m\u001b[0mCascadeClassifier\u001b[0m\u001b[0;34m(\u001b[0m\u001b[0;34m'/content/drive/MyDrive/parojos.xml'\u001b[0m\u001b[0;34m)\u001b[0m\u001b[0;34m\u001b[0m\u001b[0;34m\u001b[0m\u001b[0m\n\u001b[0m\u001b[1;32m      9\u001b[0m \u001b[0;31m#fire_detection.xml file & this code should be in the same folder while running the code\u001b[0m\u001b[0;34m\u001b[0m\u001b[0;34m\u001b[0m\u001b[0;34m\u001b[0m\u001b[0m\n\u001b[1;32m     10\u001b[0m \u001b[0;34m\u001b[0m\u001b[0m\n",
            "\u001b[0;31mSystemError\u001b[0m: <class 'cv2.CascadeClassifier'> returned a result with an error set"
          ]
        }
      ]
    },
    {
      "cell_type": "code",
      "metadata": {
        "id": "HF4_Ey_IjARM"
      },
      "source": [
        ""
      ],
      "execution_count": null,
      "outputs": []
    }
  ]
}